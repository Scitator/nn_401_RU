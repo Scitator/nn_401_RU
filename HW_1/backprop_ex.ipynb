{
 "cells": [
  {
   "cell_type": "code",
   "execution_count": 1,
   "metadata": {
    "collapsed": true
   },
   "outputs": [],
   "source": [
    "import numpy as np"
   ]
  },
  {
   "cell_type": "code",
   "execution_count": 2,
   "metadata": {
    "collapsed": true
   },
   "outputs": [],
   "source": [
    "## Определим разные полезные функции\n",
    "\n",
    "def sigmoid(x):\n",
    "    \"\"\"сигмоидальная функция, работает и с числами, и с векторами (поэлементно)\"\"\"\n",
    "    return 1 / (1 + np.exp(-x))\n",
    "\n",
    "def sigmoid_prime(x):\n",
    "    \"\"\"производная сигмоидальной функции, работает и с числами, и с векторами (поэлементно)\"\"\"\n",
    "    return sigmoid(x) * (1 - sigmoid(x))"
   ]
  },
  {
   "cell_type": "code",
   "execution_count": 57,
   "metadata": {
    "collapsed": true
   },
   "outputs": [],
   "source": [
    "class NBase_2():\n",
    "    def __init__(self, W, b1, U, b2,\n",
    "                 reg=0.001, alpha=0.01):\n",
    "\n",
    "        # Set regularization\n",
    "        self.lreg = float(reg)\n",
    "        self.alpha = alpha # default training rate\n",
    "\n",
    "        self.W = np.array(W)\n",
    "        self.b1 = b1\n",
    "        self.U = np.array(U)\n",
    "        self.b2 = b2\n",
    "        \n",
    "        self.grads_U = 0.0\n",
    "        self.grads_b2 = 0.0\n",
    "        self.grads_W = 0.0\n",
    "        self.grads_b1 = 0.0\n",
    "\n",
    "    def _acc_grads(self, input_x, true_label):\n",
    "        \n",
    "        # Forward propagation\n",
    "        a1 = np.array(input_x).reshape(len(input_x), 1)\n",
    "        z2 = self.W.dot(a1) + self.b1\n",
    "        a2 = sigmoid(z2) \n",
    "        z3 = self.U.dot(a2) + self.b2\n",
    "        y_hat = sigmoid(z3)\n",
    "\n",
    "        y = true_label\n",
    "        delta3 = y_hat - y\n",
    "        ##\n",
    "        # Backpropagation\n",
    "        # dJ/dU\n",
    "        self.grads_U += np.outer(delta3, a2) + self.lreg * self.U\n",
    "        # dJ/db2\n",
    "        self.grads_b2 += delta3\n",
    "        delta2 = self.U.T.dot(delta3) * sigmoid_prime(z2)\n",
    "        # dJ/dW @TODO: check\n",
    "        self.grads_W += np.outer(delta2, a1) + self.lreg * self.W\n",
    "        # dJ/db1\n",
    "        self.grads_b1 += delta2\n",
    "\n",
    "\n",
    "    def predict_proba(self, input_x):\n",
    "        a1 = input_x\n",
    "        z2 = self.W.dot(a1) + self.b1\n",
    "        a2 = sigmoid(z2) \n",
    "        z3 = self.U.dot(a2) + self.b2\n",
    "        y_hat = sigmoid(z3)\n",
    "\n",
    "        return y_hat\n",
    "\n",
    "\n",
    "    def predict(self, input_x):\n",
    "        return argmax(self.predict_proba(windows), axis=1)"
   ]
  },
  {
   "cell_type": "code",
   "execution_count": 63,
   "metadata": {
    "collapsed": true
   },
   "outputs": [],
   "source": [
    "W = [[2.0,2.0, 2.0], [2.0, 2.0, 2.0]]\n",
    "b1 = 0.0\n",
    "U = [[1.0, 1.0]]\n",
    "b2 = 0.0\n",
    "reg = 0.0"
   ]
  },
  {
   "cell_type": "code",
   "execution_count": 64,
   "metadata": {
    "collapsed": false
   },
   "outputs": [],
   "source": [
    "nn = NBase_2(W,b1,U,b2,reg)"
   ]
  },
  {
   "cell_type": "code",
   "execution_count": 65,
   "metadata": {
    "collapsed": false
   },
   "outputs": [],
   "source": [
    "nn._acc_grads([0, 1, 2], 1)"
   ]
  },
  {
   "cell_type": "code",
   "execution_count": 66,
   "metadata": {
    "collapsed": false
   },
   "outputs": [
    {
     "data": {
      "text/plain": [
       "array([[ 0.       , -0.0002953, -0.0005906],\n",
       "       [ 0.       , -0.0002953, -0.0005906]])"
      ]
     },
     "execution_count": 66,
     "metadata": {},
     "output_type": "execute_result"
    }
   ],
   "source": [
    "nn.grads_W"
   ]
  },
  {
   "cell_type": "code",
   "execution_count": 67,
   "metadata": {
    "collapsed": true
   },
   "outputs": [],
   "source": [
    "W = [[8.0,7.0, 8.0], [10.0, 10.0, 9.0]]\n",
    "b1 = 0.0\n",
    "U = [[10.0, 9.0]]\n",
    "b2 = 0.0\n",
    "reg = 0.0"
   ]
  },
  {
   "cell_type": "code",
   "execution_count": 68,
   "metadata": {
    "collapsed": true
   },
   "outputs": [],
   "source": [
    "nn = NBase_2(W,b1,U,b2,reg)"
   ]
  },
  {
   "cell_type": "code",
   "execution_count": 69,
   "metadata": {
    "collapsed": true
   },
   "outputs": [],
   "source": [
    "nn._acc_grads([0, 1, 2], 1)"
   ]
  },
  {
   "cell_type": "code",
   "execution_count": 70,
   "metadata": {
    "collapsed": false
   },
   "outputs": [
    {
     "data": {
      "text/plain": [
       "array([[  0.00000000e+00,  -5.74952261e-18,  -1.14990452e-17],\n",
       "       [  0.00000000e+00,  -3.48663261e-20,  -6.97326522e-20]])"
      ]
     },
     "execution_count": 70,
     "metadata": {},
     "output_type": "execute_result"
    }
   ],
   "source": [
    "nn.grads_W"
   ]
  },
  {
   "cell_type": "code",
   "execution_count": 71,
   "metadata": {
    "collapsed": true
   },
   "outputs": [],
   "source": [
    "W = [[0.2,0.9, 0.6], [0.2, 0.3, 0.7]]\n",
    "b1 = 0.0\n",
    "U = [[0.2, 0.5]]\n",
    "b2 = 0.0\n",
    "reg = 0.0"
   ]
  },
  {
   "cell_type": "code",
   "execution_count": 72,
   "metadata": {
    "collapsed": true
   },
   "outputs": [],
   "source": [
    "nn = NBase_2(W,b1,U,b2,reg)"
   ]
  },
  {
   "cell_type": "code",
   "execution_count": 73,
   "metadata": {
    "collapsed": true
   },
   "outputs": [],
   "source": [
    "nn._acc_grads([15.0, 5.0, 15.0], 1)"
   ]
  },
  {
   "cell_type": "code",
   "execution_count": 74,
   "metadata": {
    "collapsed": false
   },
   "outputs": [
    {
     "data": {
      "text/plain": [
       "array([[ -6.79445581e-08,  -2.26481860e-08,  -6.79445581e-08],\n",
       "       [ -7.61265598e-07,  -2.53755199e-07,  -7.61265598e-07]])"
      ]
     },
     "execution_count": 74,
     "metadata": {},
     "output_type": "execute_result"
    }
   ],
   "source": [
    "nn.grads_W"
   ]
  },
  {
   "cell_type": "code",
   "execution_count": 40,
   "metadata": {
    "collapsed": false
   },
   "outputs": [],
   "source": [
    "class NBase_2_strange():\n",
    "    def __init__(self, W, U):\n",
    "        self.W = np.array(W)\n",
    "        self.U = np.array(U)\n",
    "        \n",
    "        self.grads_U = 0.0\n",
    "        self.grads_W = 0.0\n",
    "\n",
    "    def _acc_grads(self, input_x, true_label):\n",
    "        \n",
    "        # Forward propagation\n",
    "        a1 = np.array(input_x).reshape(len(input_x), 1)\n",
    "        z2 = self.W.dot(a1)\n",
    "        a2 = sigmoid(z2)\n",
    "        a2[0,] = np.max(z2[0,])\n",
    "        z3 = self.U.dot(a2)\n",
    "        y_hat = sigmoid(z3)\n",
    "        \n",
    "        print (\"a1\")\n",
    "        print (a1)\n",
    "        \n",
    "        print (\"z2\")\n",
    "        print (z2)\n",
    "        \n",
    "        print (\"a2\")\n",
    "        print (a2)\n",
    "        \n",
    "        print (\"z3\")\n",
    "        print (z3)\n",
    "        \n",
    "        print (\"y_hat\")\n",
    "        print (y_hat)\n",
    "\n",
    "        y = true_label\n",
    "        delta3 = (y_hat - y) * sigmoid_prime(z3)\n",
    "        \n",
    "        print (\"delta3\")\n",
    "        print (delta3)\n",
    "        ##\n",
    "        # Backpropagation\n",
    "        # dJ/dU\n",
    "        self.grads_U += np.outer(delta3, a2)\n",
    "        # dJ/db2\n",
    "        new_grad = np.array([1.0, sigmoid_prime(z2[1,0])]).reshape(2, 1)\n",
    "        print (new_grad.shape)\n",
    "        print (sigmoid_prime(z2).shape)\n",
    "        delta2 = self.U.T.dot(delta3) * new_grad\n",
    "        # dJ/dW\n",
    "        self.grads_W += np.outer(delta2, a1)\n",
    "        \n",
    "        print (\"grads_U\")\n",
    "        print (self.grads_U)\n",
    "        \n",
    "        print (\"new_grad\")\n",
    "        print (new_grad)\n",
    "        \n",
    "        print (\"delta2\")\n",
    "        print (delta2)\n",
    "        \n",
    "        print (\"grads_W\")\n",
    "        print (self.grads_W)"
   ]
  },
  {
   "cell_type": "code",
   "execution_count": 41,
   "metadata": {
    "collapsed": true
   },
   "outputs": [],
   "source": [
    "W = [[0.7,0.2, 0.7], [0.8, 0.3, 0.6]]\n",
    "U = [[0.2, 0.4]]"
   ]
  },
  {
   "cell_type": "code",
   "execution_count": 42,
   "metadata": {
    "collapsed": true
   },
   "outputs": [],
   "source": [
    "nn = NBase_2_strange(W,U)"
   ]
  },
  {
   "cell_type": "code",
   "execution_count": 43,
   "metadata": {
    "collapsed": false
   },
   "outputs": [
    {
     "name": "stdout",
     "output_type": "stream",
     "text": [
      "a1\n",
      "[[ 0.]\n",
      " [ 1.]\n",
      " [ 1.]]\n",
      "z2\n",
      "[[ 0.9]\n",
      " [ 0.9]]\n",
      "a2\n",
      "[[ 0.9      ]\n",
      " [ 0.7109495]]\n",
      "z3\n",
      "[[ 0.4643798]]\n",
      "y_hat\n",
      "[[ 0.61405267]]\n",
      "delta3\n",
      "[[-0.09146642]]\n",
      "(2,)\n",
      "(2, 1)\n",
      "grads_U\n",
      "[[-0.08231978 -0.06502801]]\n",
      "new_grad\n",
      "[ 1.          0.20550031]\n",
      "delta2\n",
      "[[-0.01829328 -0.00375928]\n",
      " [-0.03658657 -0.00751855]]\n",
      "grads_W\n",
      "[[ 0.         -0.01829328 -0.01829328]\n",
      " [ 0.         -0.00375928 -0.00375928]\n",
      " [ 0.         -0.03658657 -0.03658657]\n",
      " [ 0.         -0.00751855 -0.00751855]]\n"
     ]
    }
   ],
   "source": [
    "nn._acc_grads([0.0, 1.0, 1.0], 1)"
   ]
  },
  {
   "cell_type": "code",
   "execution_count": 55,
   "metadata": {
    "collapsed": false
   },
   "outputs": [
    {
     "data": {
      "text/plain": [
       "array([[-0.07718947],\n",
       "       [-0.15437893]])"
      ]
     },
     "execution_count": 55,
     "metadata": {},
     "output_type": "execute_result"
    }
   ],
   "source": [
    "nn.U.T * (-0.38594733)"
   ]
  },
  {
   "cell_type": "code",
   "execution_count": 72,
   "metadata": {
    "collapsed": false
   },
   "outputs": [
    {
     "data": {
      "text/plain": [
       "0.030610368465535307"
      ]
     },
     "execution_count": 72,
     "metadata": {},
     "output_type": "execute_result"
    }
   ],
   "source": [
    "sigmoid_prime(0.9)*((0.38594733) ** 2)"
   ]
  },
  {
   "cell_type": "code",
   "execution_count": null,
   "metadata": {
    "collapsed": true
   },
   "outputs": [],
   "source": []
  }
 ],
 "metadata": {
  "kernelspec": {
   "display_name": "Python 3",
   "language": "python",
   "name": "python3"
  },
  "language_info": {
   "codemirror_mode": {
    "name": "ipython",
    "version": 3
   },
   "file_extension": ".py",
   "mimetype": "text/x-python",
   "name": "python",
   "nbconvert_exporter": "python",
   "pygments_lexer": "ipython3",
   "version": "3.5.1"
  }
 },
 "nbformat": 4,
 "nbformat_minor": 0
}
